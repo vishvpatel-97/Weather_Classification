{
 "cells": [
  {
   "cell_type": "code",
   "execution_count": 1,
   "metadata": {
    "colab": {
     "base_uri": "https://localhost:8080/"
    },
    "id": "X8E6MB8Kq61p",
    "outputId": "32d346fd-5f8e-4a02-9504-a37bfc8d7bd5"
   },
   "outputs": [
    {
     "name": "stdout",
     "output_type": "stream",
     "text": [
      "Requirement already satisfied: ipython-autotime in c:\\users\\sanjay\\anaconda3\\lib\\site-packages (0.3.1)\n",
      "Requirement already satisfied: ipython in c:\\users\\sanjay\\anaconda3\\lib\\site-packages (from ipython-autotime) (7.19.0)\n",
      "Requirement already satisfied: prompt-toolkit!=3.0.0,!=3.0.1,<3.1.0,>=2.0.0 in c:\\users\\sanjay\\anaconda3\\lib\\site-packages (from ipython->ipython-autotime) (3.0.8)\n",
      "Requirement already satisfied: setuptools>=18.5 in c:\\users\\sanjay\\anaconda3\\lib\\site-packages (from ipython->ipython-autotime) (50.3.1.post20201107)\n",
      "Requirement already satisfied: backcall in c:\\users\\sanjay\\anaconda3\\lib\\site-packages (from ipython->ipython-autotime) (0.2.0)\n",
      "Requirement already satisfied: traitlets>=4.2 in c:\\users\\sanjay\\anaconda3\\lib\\site-packages (from ipython->ipython-autotime) (5.0.5)\n",
      "Requirement already satisfied: colorama; sys_platform == \"win32\" in c:\\users\\sanjay\\anaconda3\\lib\\site-packages (from ipython->ipython-autotime) (0.4.4)\n",
      "Requirement already satisfied: pickleshare in c:\\users\\sanjay\\anaconda3\\lib\\site-packages (from ipython->ipython-autotime) (0.7.5)\n",
      "Requirement already satisfied: decorator in c:\\users\\sanjay\\anaconda3\\lib\\site-packages (from ipython->ipython-autotime) (4.4.2)\n",
      "Requirement already satisfied: pygments in c:\\users\\sanjay\\anaconda3\\lib\\site-packages (from ipython->ipython-autotime) (2.7.2)\n",
      "Requirement already satisfied: jedi>=0.10 in c:\\users\\sanjay\\anaconda3\\lib\\site-packages (from ipython->ipython-autotime) (0.17.1)\n",
      "Requirement already satisfied: wcwidth in c:\\users\\sanjay\\anaconda3\\lib\\site-packages (from prompt-toolkit!=3.0.0,!=3.0.1,<3.1.0,>=2.0.0->ipython->ipython-autotime) (0.2.5)\n",
      "Requirement already satisfied: ipython-genutils in c:\\users\\sanjay\\anaconda3\\lib\\site-packages (from traitlets>=4.2->ipython->ipython-autotime) (0.2.0)\n",
      "Requirement already satisfied: parso<0.8.0,>=0.7.0 in c:\\users\\sanjay\\anaconda3\\lib\\site-packages (from jedi>=0.10->ipython->ipython-autotime) (0.7.0)\n",
      "time: 0 ns (started: 2021-02-09 09:52:36 +05:30)\n"
     ]
    }
   ],
   "source": [
    "!pip install ipython-autotime\n",
    "%load_ext autotime"
   ]
  },
  {
   "cell_type": "code",
   "execution_count": 2,
   "metadata": {
    "colab": {
     "base_uri": "https://localhost:8080/"
    },
    "id": "Rs9NDo00sQXh",
    "outputId": "9678b63b-2592-4eb0-9e29-37da3d44a57e"
   },
   "outputs": [
    {
     "name": "stdout",
     "output_type": "stream",
     "text": [
      "time: 2min 36s (started: 2021-02-09 09:52:55 +05:30)\n"
     ]
    }
   ],
   "source": [
    "#Preprocessing\n",
    "#(1)Resize\n",
    "#(2)Flattening\n",
    "\n",
    "#Alternative for reading image is opencv\n",
    "import os\n",
    "import matplotlib.pyplot as plt\n",
    "import numpy as np\n",
    "from skimage.io import imread\n",
    "from skimage.transform import resize #beacuse image should be in specific size\n",
    "\n",
    "target= []\n",
    "images= []\n",
    "flat_data= []\n",
    "\n",
    "DATADIR=r'C:\\Users\\SANJAY\\Desktop\\Weather classification\\images'\n",
    "CATEGORIES=['cloudy','rainy','shiny','sunrise']\n",
    "\n",
    "for category in CATEGORIES:\n",
    "  class_num=CATEGORIES.index(category) #Label Encoding the values\n",
    "  path=os.path.join(DATADIR,category) #create path to use all the images\n",
    "  for img in os.listdir(path):\n",
    "    img_array=imread(os.path.join(path,img))\n",
    "    #print(img_array.shape)\n",
    "    #plt.imshow(img_array)\n",
    "    img_resized=resize(img_array,(150,150,3)) #Normalize the value from 0 to 1\n",
    "    flat_data.append(img_resized.flatten())\n",
    "    images.append(img_resized)\n",
    "    target.append(class_num)\n",
    "\n",
    "flat_data=np.array(flat_data)\n",
    "target=np.array(target)\n",
    "images=np.array(images)    \n"
   ]
  },
  {
   "cell_type": "code",
   "execution_count": 7,
   "metadata": {
    "colab": {
     "base_uri": "https://localhost:8080/"
    },
    "id": "Tp7EX1nivPGk",
    "outputId": "739c9792-0326-4ee3-cfb3-7bc282b130b3"
   },
   "outputs": [
    {
     "data": {
      "text/plain": [
       "array([[0.5       , 0.5       , 0.5       , ..., 0.21143791, 0.21143791,\n",
       "        0.21143791],\n",
       "       [0.67786248, 0.73668601, 0.85825464, ..., 0.44313725, 0.56078431,\n",
       "        0.6627451 ],\n",
       "       [0.53155573, 0.53462763, 0.56871878, ..., 0.34857499, 0.29367303,\n",
       "        0.15392139],\n",
       "       ...,\n",
       "       [0.        , 0.        , 0.        , ..., 0.        , 0.        ,\n",
       "        0.        ],\n",
       "       [0.43137255, 0.14117647, 0.03921569, ..., 0.16862745, 0.09639216,\n",
       "        0.05868078],\n",
       "       [0.57218301, 0.27806536, 0.12512418, ..., 0.23137255, 0.12375163,\n",
       "        0.08061438]])"
      ]
     },
     "execution_count": 7,
     "metadata": {},
     "output_type": "execute_result"
    },
    {
     "name": "stdout",
     "output_type": "stream",
     "text": [
      "time: 15 ms (started: 2021-02-08 18:17:05 +05:30)\n"
     ]
    }
   ],
   "source": [
    "flat_data"
   ]
  },
  {
   "cell_type": "code",
   "execution_count": 8,
   "metadata": {
    "colab": {
     "base_uri": "https://localhost:8080/"
    },
    "id": "7SS_dsdEzhDF",
    "outputId": "38b52e33-8761-420d-e252-59474105f079"
   },
   "outputs": [
    {
     "data": {
      "text/plain": [
       "array([0.5       , 0.5       , 0.5       , ..., 0.21143791, 0.21143791,\n",
       "       0.21143791])"
      ]
     },
     "execution_count": 8,
     "metadata": {},
     "output_type": "execute_result"
    },
    {
     "name": "stdout",
     "output_type": "stream",
     "text": [
      "time: 0 ns (started: 2021-02-08 18:17:07 +05:30)\n"
     ]
    }
   ],
   "source": [
    "  flat_data[0]"
   ]
  },
  {
   "cell_type": "code",
   "execution_count": 9,
   "metadata": {
    "colab": {
     "base_uri": "https://localhost:8080/"
    },
    "id": "6HQPUcSezkIN",
    "outputId": "fb3245a6-8297-4b1d-ee80-98e7f44cf45d"
   },
   "outputs": [
    {
     "data": {
      "text/plain": [
       "array([0, 0, 0, ..., 3, 3, 3])"
      ]
     },
     "execution_count": 9,
     "metadata": {},
     "output_type": "execute_result"
    },
    {
     "name": "stdout",
     "output_type": "stream",
     "text": [
      "time: 31 ms (started: 2021-02-08 18:17:11 +05:30)\n"
     ]
    }
   ],
   "source": [
    "target"
   ]
  },
  {
   "cell_type": "code",
   "execution_count": 3,
   "metadata": {
    "colab": {
     "base_uri": "https://localhost:8080/",
     "height": 298
    },
    "id": "2bsX-qXHzni_",
    "outputId": "dcb77afe-5ed6-44f3-9c35-c3443f85ac6f"
   },
   "outputs": [
    {
     "data": {
      "text/plain": [
       "<BarContainer object of 4 artists>"
      ]
     },
     "execution_count": 3,
     "metadata": {},
     "output_type": "execute_result"
    },
    {
     "data": {
      "image/png": "[encoded data removed]",
      "text/plain": [
       "<Figure size 432x288 with 1 Axes>"
      ]
     },
     "metadata": {
      "needs_background": "light"
     },
     "output_type": "display_data"
    },
    {
     "name": "stdout",
     "output_type": "stream",
     "text": [
      "time: 859 ms (started: 2021-02-09 09:55:53 +05:30)\n"
     ]
    }
   ],
   "source": [
    "unique,count=np.unique(target,return_counts=True)\n",
    "plt.bar(CATEGORIES,count)"
   ]
  },
  {
   "cell_type": "code",
   "execution_count": 4,
   "metadata": {
    "colab": {
     "base_uri": "https://localhost:8080/"
    },
    "id": "iaYx8NZ1zuhI",
    "outputId": "a7c7883f-afef-462b-99dd-ac8074632a6a"
   },
   "outputs": [
    {
     "data": {
      "text/plain": [
       "(array([0, 1, 2, 3]), array([300, 215, 253, 357], dtype=int64))"
      ]
     },
     "execution_count": 4,
     "metadata": {},
     "output_type": "execute_result"
    },
    {
     "name": "stdout",
     "output_type": "stream",
     "text": [
      "time: 15 ms (started: 2021-02-09 09:55:57 +05:30)\n"
     ]
    }
   ],
   "source": [
    "np.unique(target,return_counts=True)"
   ]
  },
  {
   "cell_type": "code",
   "execution_count": 5,
   "metadata": {
    "colab": {
     "base_uri": "https://localhost:8080/"
    },
    "id": "pNMxlght0FjK",
    "outputId": "a74d26e1-9be3-45de-c98b-4f3ca0b83809"
   },
   "outputs": [
    {
     "name": "stdout",
     "output_type": "stream",
     "text": [
      "time: 625 ms (started: 2021-02-09 09:55:59 +05:30)\n"
     ]
    }
   ],
   "source": [
    "#Split data into training & Testing\n",
    "\n",
    "from sklearn.model_selection import train_test_split\n",
    "x_train,x_test,y_train,y_test=train_test_split(flat_data,target,test_size=0.3,random_state=109)"
   ]
  },
  {
   "cell_type": "code",
   "execution_count": 7,
   "metadata": {},
   "outputs": [
    {
     "data": {
      "text/plain": [
       "RandomForestClassifier()"
      ]
     },
     "execution_count": 7,
     "metadata": {},
     "output_type": "execute_result"
    },
    {
     "name": "stdout",
     "output_type": "stream",
     "text": [
      "time: 13.8 s (started: 2021-02-09 09:56:13 +05:30)\n"
     ]
    }
   ],
   "source": [
    "from sklearn.ensemble import RandomForestClassifier\n",
    "classifier=RandomForestClassifier()\n",
    "classifier.fit(x_train,y_train)"
   ]
  },
  {
   "cell_type": "code",
   "execution_count": 9,
   "metadata": {},
   "outputs": [
    {
     "name": "stdout",
     "output_type": "stream",
     "text": [
      "time: 203 ms (started: 2021-02-09 09:56:34 +05:30)\n"
     ]
    }
   ],
   "source": [
    "y_pred1=classifier.predict(x_test)"
   ]
  },
  {
   "cell_type": "code",
   "execution_count": 11,
   "metadata": {},
   "outputs": [
    {
     "name": "stdout",
     "output_type": "stream",
     "text": [
      "time: 16 ms (started: 2021-02-09 09:56:58 +05:30)\n"
     ]
    }
   ],
   "source": [
    "### Check Accuracy\n",
    "from sklearn.metrics import accuracy_score\n",
    "score=accuracy_score(y_test,y_pred1)"
   ]
  },
  {
   "cell_type": "code",
   "execution_count": 12,
   "metadata": {},
   "outputs": [
    {
     "data": {
      "text/plain": [
       "0.8254437869822485"
      ]
     },
     "execution_count": 12,
     "metadata": {},
     "output_type": "execute_result"
    },
    {
     "name": "stdout",
     "output_type": "stream",
     "text": [
      "time: 0 ns (started: 2021-02-09 09:57:05 +05:30)\n"
     ]
    }
   ],
   "source": [
    "score"
   ]
  },
  {
   "cell_type": "code",
   "execution_count": 13,
   "metadata": {},
   "outputs": [
    {
     "name": "stdout",
     "output_type": "stream",
     "text": [
      "time: 16 ms (started: 2021-02-09 09:57:37 +05:30)\n"
     ]
    }
   ],
   "source": [
    "### Create a Pickle file using serialization \n",
    "import pickle\n",
    "pickle_out = open(\"classifier.pkl\",\"wb\")\n",
    "pickle.dump(classifier, pickle_out)\n",
    "pickle_out.close()"
   ]
  },
  {
   "cell_type": "code",
   "execution_count": 13,
   "metadata": {
    "colab": {
     "base_uri": "https://localhost:8080/"
    },
    "id": "7uHCLihY20lN",
    "outputId": "7aeadac3-db4f-4208-fd41-6b0021a1c3ea"
   },
   "outputs": [
    {
     "data": {
      "text/plain": [
       "GridSearchCV(estimator=SVC(probability=True),\n",
       "             param_grid=[{'C': [1, 10, 100, 1000], 'kernel': ['linear']},\n",
       "                         {'C': [1, 10, 100, 1000], 'gamma': [0.001, 0.0001],\n",
       "                          'kernel': ['rbf']}])"
      ]
     },
     "execution_count": 13,
     "metadata": {},
     "output_type": "execute_result"
    },
    {
     "name": "stdout",
     "output_type": "stream",
     "text": [
      "time: 2h 45min 45s (started: 2021-02-08 18:17:31 +05:30)\n"
     ]
    }
   ],
   "source": [
    "from sklearn.model_selection import GridSearchCV\n",
    "from sklearn import svm \n",
    "param_grid=[\n",
    "            {'C':[1,10,100,1000],'kernel':['linear']},\n",
    "            {'C':[1,10,100,1000],'gamma':[0.001,0.0001],'kernel':['rbf']},\n",
    "]\n",
    "\n",
    "svc=svm.SVC(probability=True)\n",
    "clf=GridSearchCV(svc,param_grid)\n",
    "clf.fit(x_train,y_train)"
   ]
  },
  {
   "cell_type": "code",
   "execution_count": 14,
   "metadata": {
    "colab": {
     "base_uri": "https://localhost:8080/"
    },
    "id": "xT46CJis4IKm",
    "outputId": "b64da304-3330-433a-ab99-1eba7e0af8b6"
   },
   "outputs": [
    {
     "data": {
      "text/plain": [
       "array([2, 2, 1, 3, 0, 2, 3, 1, 3, 1, 1, 3, 1, 0, 1, 1, 1, 2, 2, 3, 3, 1,\n",
       "       3, 2, 1, 2, 0, 2, 3, 0, 2, 0, 0, 1, 2, 3, 2, 2, 0, 0, 3, 0, 0, 1,\n",
       "       3, 0, 3, 1, 0, 0, 1, 2, 0, 3, 3, 1, 1, 3, 2, 2, 3, 2, 3, 3, 3, 1,\n",
       "       2, 1, 0, 0, 2, 3, 2, 1, 3, 3, 2, 3, 2, 2, 0, 2, 0, 3, 3, 3, 1, 2,\n",
       "       3, 2, 3, 3, 2, 3, 2, 0, 2, 3, 3, 3, 3, 2, 3, 3, 3, 2, 2, 0, 0, 0,\n",
       "       1, 2, 1, 1, 1, 3, 3, 3, 0, 0, 0, 0, 0, 3, 0, 1, 2, 0, 3, 3, 3, 2,\n",
       "       0, 3, 3, 3, 3, 0, 0, 0, 2, 3, 1, 0, 2, 2, 3, 0, 3, 3, 1, 2, 2, 0,\n",
       "       0, 1, 0, 0, 0, 1, 0, 0, 0, 0, 3, 2, 0, 3, 3, 2, 0, 0, 0, 1, 0, 3,\n",
       "       3, 1, 3, 3, 2, 2, 3, 3, 3, 3, 3, 1, 3, 0, 1, 3, 3, 1, 3, 2, 2, 1,\n",
       "       2, 0, 3, 3, 3, 2, 0, 3, 3, 2, 0, 3, 0, 2, 0, 2, 0, 0, 1, 3, 1, 3,\n",
       "       3, 3, 3, 0, 0, 2, 2, 1, 1, 0, 3, 2, 3, 0, 0, 1, 0, 1, 3, 1, 0, 0,\n",
       "       0, 3, 2, 3, 3, 0, 2, 1, 2, 2, 3, 2, 2, 1, 3, 3, 0, 3, 2, 1, 1, 2,\n",
       "       3, 1, 2, 3, 2, 3, 2, 3, 2, 2, 1, 1, 3, 0, 0, 0, 2, 3, 0, 1, 2, 3,\n",
       "       3, 3, 3, 3, 3, 0, 2, 3, 1, 3, 0, 1, 3, 3, 3, 0, 3, 3, 1, 3, 2, 2,\n",
       "       3, 2, 1, 3, 3, 2, 3, 3, 0, 3, 3, 2, 1, 1, 0, 1, 0, 0, 0, 3, 0, 0,\n",
       "       1, 0, 1, 3, 2, 2, 2, 3])"
      ]
     },
     "execution_count": 14,
     "metadata": {},
     "output_type": "execute_result"
    },
    {
     "name": "stdout",
     "output_type": "stream",
     "text": [
      "time: 16.9 s (started: 2021-02-08 21:12:31 +05:30)\n"
     ]
    }
   ],
   "source": [
    "y_pred=clf.predict(x_test)\n",
    "y_pred"
   ]
  },
  {
   "cell_type": "code",
   "execution_count": 15,
   "metadata": {
    "colab": {
     "base_uri": "https://localhost:8080/"
    },
    "id": "_1QZGuiQHpop",
    "outputId": "cd817967-4bce-4538-9de4-40dab3968833"
   },
   "outputs": [
    {
     "name": "stdout",
     "output_type": "stream",
     "text": [
      "time: 0 ns (started: 2021-02-08 21:12:52 +05:30)\n"
     ]
    }
   ],
   "source": [
    "from sklearn.metrics import accuracy_score , confusion_matrix"
   ]
  },
  {
   "cell_type": "code",
   "execution_count": 16,
   "metadata": {
    "colab": {
     "base_uri": "https://localhost:8080/"
    },
    "id": "VllqKtdqHqaA",
    "outputId": "2fe755ac-6829-498b-e405-36d4b6e1ac47"
   },
   "outputs": [
    {
     "data": {
      "text/plain": [
       "0.8461538461538461"
      ]
     },
     "execution_count": 16,
     "metadata": {},
     "output_type": "execute_result"
    },
    {
     "name": "stdout",
     "output_type": "stream",
     "text": [
      "time: 15 ms (started: 2021-02-08 21:12:58 +05:30)\n"
     ]
    }
   ],
   "source": [
    "accuracy_score(y_pred,y_test)"
   ]
  },
  {
   "cell_type": "code",
   "execution_count": 17,
   "metadata": {
    "colab": {
     "base_uri": "https://localhost:8080/"
    },
    "id": "UCpEmXcUHq8T",
    "outputId": "a38b6072-c610-4bc1-8f02-18d22b6f4cf1"
   },
   "outputs": [
    {
     "data": {
      "text/plain": [
       "array([[ 60,  15,   5,   3],\n",
       "       [ 12,  45,   1,   1],\n",
       "       [  7,   3,  66,   1],\n",
       "       [  0,   0,   4, 115]], dtype=int64)"
      ]
     },
     "execution_count": 17,
     "metadata": {},
     "output_type": "execute_result"
    },
    {
     "name": "stdout",
     "output_type": "stream",
     "text": [
      "time: 62 ms (started: 2021-02-08 21:13:03 +05:30)\n"
     ]
    }
   ],
   "source": [
    "confusion_matrix(y_pred,y_test)"
   ]
  },
  {
   "cell_type": "code",
   "execution_count": 18,
   "metadata": {
    "colab": {
     "base_uri": "https://localhost:8080/"
    },
    "id": "gfigkaC0Hrd2",
    "outputId": "eaddb911-a4a8-418d-9864-cbf2526e70a2"
   },
   "outputs": [
    {
     "name": "stdout",
     "output_type": "stream",
     "text": [
      "time: 2.97 s (started: 2021-02-08 21:13:13 +05:30)\n"
     ]
    }
   ],
   "source": [
    "#save the model using pickle library\n",
    "import pickle\n",
    "pickle.dump(clf,open('img_model.p','wb'))"
   ]
  },
  {
   "cell_type": "code",
   "execution_count": 19,
   "metadata": {
    "colab": {
     "base_uri": "https://localhost:8080/"
    },
    "id": "RPxnAQOrIuiM",
    "outputId": "208ca757-9664-4295-c28a-3694da18f4e9"
   },
   "outputs": [
    {
     "name": "stdout",
     "output_type": "stream",
     "text": [
      "time: 234 ms (started: 2021-02-08 21:13:42 +05:30)\n"
     ]
    }
   ],
   "source": [
    "model=pickle.load(open('img_model.p','rb'))"
   ]
  },
  {
   "cell_type": "code",
   "execution_count": 20,
   "metadata": {
    "colab": {
     "base_uri": "https://localhost:8080/",
     "height": 336
    },
    "id": "5BVP2GKIIvE0",
    "outputId": "3107d306-383d-4a7b-fd5a-68e70520a916"
   },
   "outputs": [
    {
     "name": "stdout",
     "output_type": "stream",
     "text": [
      "Enter Your URLhttps://www.teahub.io/photos/full/20-201139_full-hd-p-sunrise-wallpapers-hd-desktop-backgrounds.jpg\n",
      "(1080, 1920, 3)\n",
      "PREDICTED OUTPUT: sunrise\n"
     ]
    },
    {
     "data": {
      "image/png": "[encoded data removed]",
      "text/plain": [
       "<Figure size 432x288 with 1 Axes>"
      ]
     },
     "metadata": {
      "needs_background": "light"
     },
     "output_type": "display_data"
    },
    {
     "name": "stdout",
     "output_type": "stream",
     "text": [
      "time: 9.31 s (started: 2021-02-08 21:14:30 +05:30)\n"
     ]
    }
   ],
   "source": [
    "#Testing a complete new image\n",
    "flat_data=[]\n",
    "url=input('Enter Your URL')\n",
    "img=imread(url)\n",
    "img_resized=resize(img,(150,150,3))\n",
    "flat_data.append(img_resized.flatten())\n",
    "flat_data =np.array(flat_data)\n",
    "print(img.shape)\n",
    "plt.imshow(img_resized)\n",
    "y_out=model.predict(flat_data)\n",
    "y_out=CATEGORIES[y_out[0]]\n",
    "print(f'PREDICTED OUTPUT: {y_out}')"
   ]
  },
  {
   "cell_type": "code",
   "execution_count": 21,
   "metadata": {
    "colab": {
     "base_uri": "https://localhost:8080/",
     "height": 1000
    },
    "id": "T9tdW86kK08E",
    "outputId": "6648db88-cc50-4852-d96c-018aac19e788"
   },
   "outputs": [
    {
     "name": "stdout",
     "output_type": "stream",
     "text": [
      "Collecting streamlit\n",
      "  Using cached streamlit-0.76.0-py2.py3-none-any.whl (7.5 MB)\n",
      "Collecting blinker\n",
      "  Using cached blinker-1.4.tar.gz (111 kB)\n",
      "Requirement already satisfied: packaging in c:\\users\\sanjay\\anaconda3\\lib\\site-packages (from streamlit) (20.4)\n",
      "Collecting tzlocal\n",
      "  Using cached tzlocal-2.1-py2.py3-none-any.whl (16 kB)\n",
      "Requirement already satisfied: python-dateutil in c:\\users\\sanjay\\anaconda3\\lib\\site-packages (from streamlit) (2.8.1)\n",
      "Requirement already satisfied: click>=7.0 in c:\\users\\sanjay\\anaconda3\\lib\\site-packages (from streamlit) (7.1.2)\n",
      "Collecting base58\n",
      "  Using cached base58-2.1.0-py3-none-any.whl (5.6 kB)\n",
      "Requirement already satisfied: toml in c:\\users\\sanjay\\anaconda3\\lib\\site-packages (from streamlit) (0.10.1)\n",
      "Collecting validators\n",
      "  Using cached validators-0.18.2-py3-none-any.whl (19 kB)\n",
      "Requirement already satisfied: pillow>=6.2.0 in c:\\users\\sanjay\\anaconda3\\lib\\site-packages (from streamlit) (8.0.1)\n",
      "Collecting astor\n",
      "  Using cached astor-0.8.1-py2.py3-none-any.whl (27 kB)\n",
      "Collecting pyarrow; python_version < \"3.9\"\n",
      "  Downloading pyarrow-3.0.0-cp38-cp38-win_amd64.whl (12.7 MB)\n",
      "Requirement already satisfied: requests in c:\\users\\sanjay\\anaconda3\\lib\\site-packages (from streamlit) (2.24.0)\n",
      "Collecting altair>=3.2.0\n",
      "  Using cached altair-4.1.0-py3-none-any.whl (727 kB)\n",
      "Requirement already satisfied: numpy in c:\\users\\sanjay\\anaconda3\\lib\\site-packages (from streamlit) (1.19.2)\n",
      "Collecting protobuf!=3.11,>=3.6.0\n",
      "  Downloading protobuf-3.14.0-py2.py3-none-any.whl (173 kB)\n",
      "Requirement already satisfied: watchdog; platform_system != \"Darwin\" in c:\\users\\sanjay\\anaconda3\\lib\\site-packages (from streamlit) (0.10.3)\n",
      "Requirement already satisfied: pandas>=0.21.0 in c:\\users\\sanjay\\anaconda3\\lib\\site-packages (from streamlit) (1.1.3)\n",
      "Collecting pydeck>=0.1.dev5\n",
      "  Downloading pydeck-0.6.0-py2.py3-none-any.whl (4.6 MB)\n",
      "Requirement already satisfied: tornado>=5.0 in c:\\users\\sanjay\\anaconda3\\lib\\site-packages (from streamlit) (6.0.4)\n",
      "Collecting gitpython\n",
      "  Using cached GitPython-3.1.12-py3-none-any.whl (159 kB)\n",
      "Collecting cachetools>=4.0\n",
      "  Downloading cachetools-4.2.1-py3-none-any.whl (12 kB)\n",
      "Requirement already satisfied: pyparsing>=2.0.2 in c:\\users\\sanjay\\anaconda3\\lib\\site-packages (from packaging->streamlit) (2.4.7)\n",
      "Requirement already satisfied: six in c:\\users\\sanjay\\anaconda3\\lib\\site-packages (from packaging->streamlit) (1.15.0)\n",
      "Requirement already satisfied: pytz in c:\\users\\sanjay\\anaconda3\\lib\\site-packages (from tzlocal->streamlit) (2020.1)\n",
      "Requirement already satisfied: decorator>=3.4.0 in c:\\users\\sanjay\\anaconda3\\lib\\site-packages (from validators->streamlit) (4.4.2)\n",
      "Requirement already satisfied: idna<3,>=2.5 in c:\\users\\sanjay\\anaconda3\\lib\\site-packages (from requests->streamlit) (2.10)\n",
      "Requirement already satisfied: chardet<4,>=3.0.2 in c:\\users\\sanjay\\anaconda3\\lib\\site-packages (from requests->streamlit) (3.0.4)\n",
      "Requirement already satisfied: certifi>=2017.4.17 in c:\\users\\sanjay\\anaconda3\\lib\\site-packages (from requests->streamlit) (2020.6.20)\n",
      "Requirement already satisfied: urllib3!=1.25.0,!=1.25.1,<1.26,>=1.21.1 in c:\\users\\sanjay\\anaconda3\\lib\\site-packages (from requests->streamlit) (1.25.11)\n",
      "Requirement already satisfied: jsonschema in c:\\users\\sanjay\\anaconda3\\lib\\site-packages (from altair>=3.2.0->streamlit) (3.2.0)\n",
      "Requirement already satisfied: entrypoints in c:\\users\\sanjay\\anaconda3\\lib\\site-packages (from altair>=3.2.0->streamlit) (0.3)\n",
      "Requirement already satisfied: toolz in c:\\users\\sanjay\\anaconda3\\lib\\site-packages (from altair>=3.2.0->streamlit) (0.11.1)\n",
      "Requirement already satisfied: jinja2 in c:\\users\\sanjay\\anaconda3\\lib\\site-packages (from altair>=3.2.0->streamlit) (2.11.2)\n",
      "Requirement already satisfied: pathtools>=0.1.1 in c:\\users\\sanjay\\anaconda3\\lib\\site-packages (from watchdog; platform_system != \"Darwin\"->streamlit) (0.1.2)\n",
      "Requirement already satisfied: ipykernel>=5.1.2; python_version >= \"3.4\" in c:\\users\\sanjay\\anaconda3\\lib\\site-packages (from pydeck>=0.1.dev5->streamlit) (5.3.4)\n",
      "Requirement already satisfied: ipywidgets>=7.0.0 in c:\\users\\sanjay\\anaconda3\\lib\\site-packages (from pydeck>=0.1.dev5->streamlit) (7.5.1)\n",
      "Requirement already satisfied: traitlets>=4.3.2 in c:\\users\\sanjay\\anaconda3\\lib\\site-packages (from pydeck>=0.1.dev5->streamlit) (5.0.5)\n",
      "Collecting gitdb<5,>=4.0.1\n",
      "  Using cached gitdb-4.0.5-py3-none-any.whl (63 kB)\n",
      "Requirement already satisfied: attrs>=17.4.0 in c:\\users\\sanjay\\anaconda3\\lib\\site-packages (from jsonschema->altair>=3.2.0->streamlit) (20.3.0)\n",
      "Requirement already satisfied: pyrsistent>=0.14.0 in c:\\users\\sanjay\\anaconda3\\lib\\site-packages (from jsonschema->altair>=3.2.0->streamlit) (0.17.3)\n",
      "Requirement already satisfied: setuptools in c:\\users\\sanjay\\anaconda3\\lib\\site-packages (from jsonschema->altair>=3.2.0->streamlit) (50.3.1.post20201107)\n",
      "Requirement already satisfied: MarkupSafe>=0.23 in c:\\users\\sanjay\\anaconda3\\lib\\site-packages (from jinja2->altair>=3.2.0->streamlit) (1.1.1)\n",
      "Requirement already satisfied: jupyter-client in c:\\users\\sanjay\\anaconda3\\lib\\site-packages (from ipykernel>=5.1.2; python_version >= \"3.4\"->pydeck>=0.1.dev5->streamlit) (6.1.7)\n",
      "Requirement already satisfied: ipython>=5.0.0 in c:\\users\\sanjay\\anaconda3\\lib\\site-packages (from ipykernel>=5.1.2; python_version >= \"3.4\"->pydeck>=0.1.dev5->streamlit) (7.19.0)\n",
      "Requirement already satisfied: widgetsnbextension~=3.5.0 in c:\\users\\sanjay\\anaconda3\\lib\\site-packages (from ipywidgets>=7.0.0->pydeck>=0.1.dev5->streamlit) (3.5.1)\n",
      "Requirement already satisfied: nbformat>=4.2.0 in c:\\users\\sanjay\\anaconda3\\lib\\site-packages (from ipywidgets>=7.0.0->pydeck>=0.1.dev5->streamlit) (5.0.8)\n",
      "Requirement already satisfied: ipython-genutils in c:\\users\\sanjay\\anaconda3\\lib\\site-packages (from traitlets>=4.3.2->pydeck>=0.1.dev5->streamlit) (0.2.0)\n",
      "Collecting smmap<4,>=3.0.1\n",
      "  Using cached smmap-3.0.5-py2.py3-none-any.whl (25 kB)\n",
      "Requirement already satisfied: pyzmq>=13 in c:\\users\\sanjay\\anaconda3\\lib\\site-packages (from jupyter-client->ipykernel>=5.1.2; python_version >= \"3.4\"->pydeck>=0.1.dev5->streamlit) (19.0.2)\n",
      "Requirement already satisfied: jupyter-core>=4.6.0 in c:\\users\\sanjay\\anaconda3\\lib\\site-packages (from jupyter-client->ipykernel>=5.1.2; python_version >= \"3.4\"->pydeck>=0.1.dev5->streamlit) (4.6.3)\n",
      "Requirement already satisfied: pickleshare in c:\\users\\sanjay\\anaconda3\\lib\\site-packages (from ipython>=5.0.0->ipykernel>=5.1.2; python_version >= \"3.4\"->pydeck>=0.1.dev5->streamlit) (0.7.5)\n",
      "Requirement already satisfied: prompt-toolkit!=3.0.0,!=3.0.1,<3.1.0,>=2.0.0 in c:\\users\\sanjay\\anaconda3\\lib\\site-packages (from ipython>=5.0.0->ipykernel>=5.1.2; python_version >= \"3.4\"->pydeck>=0.1.dev5->streamlit) (3.0.8)\n",
      "Requirement already satisfied: colorama; sys_platform == \"win32\" in c:\\users\\sanjay\\anaconda3\\lib\\site-packages (from ipython>=5.0.0->ipykernel>=5.1.2; python_version >= \"3.4\"->pydeck>=0.1.dev5->streamlit) (0.4.4)\n",
      "Requirement already satisfied: jedi>=0.10 in c:\\users\\sanjay\\anaconda3\\lib\\site-packages (from ipython>=5.0.0->ipykernel>=5.1.2; python_version >= \"3.4\"->pydeck>=0.1.dev5->streamlit) (0.17.1)\n",
      "Requirement already satisfied: backcall in c:\\users\\sanjay\\anaconda3\\lib\\site-packages (from ipython>=5.0.0->ipykernel>=5.1.2; python_version >= \"3.4\"->pydeck>=0.1.dev5->streamlit) (0.2.0)\n",
      "Requirement already satisfied: pygments in c:\\users\\sanjay\\anaconda3\\lib\\site-packages (from ipython>=5.0.0->ipykernel>=5.1.2; python_version >= \"3.4\"->pydeck>=0.1.dev5->streamlit) (2.7.2)\n",
      "Requirement already satisfied: notebook>=4.4.1 in c:\\users\\sanjay\\anaconda3\\lib\\site-packages (from widgetsnbextension~=3.5.0->ipywidgets>=7.0.0->pydeck>=0.1.dev5->streamlit) (6.1.4)\n",
      "Requirement already satisfied: pywin32>=1.0; sys_platform == \"win32\" in c:\\users\\sanjay\\anaconda3\\lib\\site-packages (from jupyter-core>=4.6.0->jupyter-client->ipykernel>=5.1.2; python_version >= \"3.4\"->pydeck>=0.1.dev5->streamlit) (227)\n",
      "Requirement already satisfied: wcwidth in c:\\users\\sanjay\\anaconda3\\lib\\site-packages (from prompt-toolkit!=3.0.0,!=3.0.1,<3.1.0,>=2.0.0->ipython>=5.0.0->ipykernel>=5.1.2; python_version >= \"3.4\"->pydeck>=0.1.dev5->streamlit) (0.2.5)\n",
      "Requirement already satisfied: parso<0.8.0,>=0.7.0 in c:\\users\\sanjay\\anaconda3\\lib\\site-packages (from jedi>=0.10->ipython>=5.0.0->ipykernel>=5.1.2; python_version >= \"3.4\"->pydeck>=0.1.dev5->streamlit) (0.7.0)\n",
      "Requirement already satisfied: terminado>=0.8.3 in c:\\users\\sanjay\\anaconda3\\lib\\site-packages (from notebook>=4.4.1->widgetsnbextension~=3.5.0->ipywidgets>=7.0.0->pydeck>=0.1.dev5->streamlit) (0.9.1)\n",
      "Requirement already satisfied: argon2-cffi in c:\\users\\sanjay\\anaconda3\\lib\\site-packages (from notebook>=4.4.1->widgetsnbextension~=3.5.0->ipywidgets>=7.0.0->pydeck>=0.1.dev5->streamlit) (20.1.0)\n",
      "Requirement already satisfied: Send2Trash in c:\\users\\sanjay\\anaconda3\\lib\\site-packages (from notebook>=4.4.1->widgetsnbextension~=3.5.0->ipywidgets>=7.0.0->pydeck>=0.1.dev5->streamlit) (1.5.0)\n",
      "Requirement already satisfied: prometheus-client in c:\\users\\sanjay\\anaconda3\\lib\\site-packages (from notebook>=4.4.1->widgetsnbextension~=3.5.0->ipywidgets>=7.0.0->pydeck>=0.1.dev5->streamlit) (0.8.0)\n",
      "Requirement already satisfied: nbconvert in c:\\users\\sanjay\\anaconda3\\lib\\site-packages (from notebook>=4.4.1->widgetsnbextension~=3.5.0->ipywidgets>=7.0.0->pydeck>=0.1.dev5->streamlit) (6.0.7)\n",
      "Requirement already satisfied: pywinpty>=0.5 in c:\\users\\sanjay\\anaconda3\\lib\\site-packages (from terminado>=0.8.3->notebook>=4.4.1->widgetsnbextension~=3.5.0->ipywidgets>=7.0.0->pydeck>=0.1.dev5->streamlit) (0.5.7)\n",
      "Requirement already satisfied: cffi>=1.0.0 in c:\\users\\sanjay\\anaconda3\\lib\\site-packages (from argon2-cffi->notebook>=4.4.1->widgetsnbextension~=3.5.0->ipywidgets>=7.0.0->pydeck>=0.1.dev5->streamlit) (1.14.3)\n",
      "Requirement already satisfied: testpath in c:\\users\\sanjay\\anaconda3\\lib\\site-packages (from nbconvert->notebook>=4.4.1->widgetsnbextension~=3.5.0->ipywidgets>=7.0.0->pydeck>=0.1.dev5->streamlit) (0.4.4)\n",
      "Requirement already satisfied: jupyterlab-pygments in c:\\users\\sanjay\\anaconda3\\lib\\site-packages (from nbconvert->notebook>=4.4.1->widgetsnbextension~=3.5.0->ipywidgets>=7.0.0->pydeck>=0.1.dev5->streamlit) (0.1.2)\n",
      "Requirement already satisfied: pandocfilters>=1.4.1 in c:\\users\\sanjay\\anaconda3\\lib\\site-packages (from nbconvert->notebook>=4.4.1->widgetsnbextension~=3.5.0->ipywidgets>=7.0.0->pydeck>=0.1.dev5->streamlit) (1.4.3)\n",
      "Requirement already satisfied: nbclient<0.6.0,>=0.5.0 in c:\\users\\sanjay\\anaconda3\\lib\\site-packages (from nbconvert->notebook>=4.4.1->widgetsnbextension~=3.5.0->ipywidgets>=7.0.0->pydeck>=0.1.dev5->streamlit) (0.5.1)\n",
      "Requirement already satisfied: defusedxml in c:\\users\\sanjay\\anaconda3\\lib\\site-packages (from nbconvert->notebook>=4.4.1->widgetsnbextension~=3.5.0->ipywidgets>=7.0.0->pydeck>=0.1.dev5->streamlit) (0.6.0)\n",
      "Requirement already satisfied: mistune<2,>=0.8.1 in c:\\users\\sanjay\\anaconda3\\lib\\site-packages (from nbconvert->notebook>=4.4.1->widgetsnbextension~=3.5.0->ipywidgets>=7.0.0->pydeck>=0.1.dev5->streamlit) (0.8.4)\n",
      "Requirement already satisfied: bleach in c:\\users\\sanjay\\anaconda3\\lib\\site-packages (from nbconvert->notebook>=4.4.1->widgetsnbextension~=3.5.0->ipywidgets>=7.0.0->pydeck>=0.1.dev5->streamlit) (3.2.1)\n",
      "Requirement already satisfied: pycparser in c:\\users\\sanjay\\anaconda3\\lib\\site-packages (from cffi>=1.0.0->argon2-cffi->notebook>=4.4.1->widgetsnbextension~=3.5.0->ipywidgets>=7.0.0->pydeck>=0.1.dev5->streamlit) (2.20)\n",
      "Requirement already satisfied: nest-asyncio in c:\\users\\sanjay\\anaconda3\\lib\\site-packages (from nbclient<0.6.0,>=0.5.0->nbconvert->notebook>=4.4.1->widgetsnbextension~=3.5.0->ipywidgets>=7.0.0->pydeck>=0.1.dev5->streamlit) (1.4.2)\n",
      "Requirement already satisfied: async-generator in c:\\users\\sanjay\\anaconda3\\lib\\site-packages (from nbclient<0.6.0,>=0.5.0->nbconvert->notebook>=4.4.1->widgetsnbextension~=3.5.0->ipywidgets>=7.0.0->pydeck>=0.1.dev5->streamlit) (1.10)\n",
      "Requirement already satisfied: webencodings in c:\\users\\sanjay\\anaconda3\\lib\\site-packages (from bleach->nbconvert->notebook>=4.4.1->widgetsnbextension~=3.5.0->ipywidgets>=7.0.0->pydeck>=0.1.dev5->streamlit) (0.5.1)\n",
      "Building wheels for collected packages: blinker\n",
      "  Building wheel for blinker (setup.py): started\n",
      "  Building wheel for blinker (setup.py): finished with status 'done'\n",
      "  Created wheel for blinker: filename=blinker-1.4-py3-none-any.whl size=13454 sha256=f86aaa04c4ee50d4389b68f7f346b3dc8e9973865a4424cf181175c157b3dbbc\n",
      "  Stored in directory: c:\\users\\sanjay\\appdata\\local\\pip\\cache\\wheels\\b7\\a5\\68\\fe632054a5eadd531c7a49d740c50eb6adfbeca822b4eab8d4\n",
      "Successfully built blinker\n",
      "Installing collected packages: blinker, tzlocal, base58, validators, astor, pyarrow, altair, protobuf, pydeck, smmap, gitdb, gitpython, cachetools, streamlit\n",
      "Successfully installed altair-4.1.0 astor-0.8.1 base58-2.1.0 blinker-1.4 cachetools-4.2.1 gitdb-4.0.5 gitpython-3.1.12 protobuf-3.14.0 pyarrow-3.0.0 pydeck-0.6.0 smmap-3.0.5 streamlit-0.76.0 tzlocal-2.1 validators-0.18.2\n"
     ]
    },
    {
     "name": "stdout",
     "output_type": "stream",
     "text": [
      "Collecting pyngrok\n",
      "  Using cached pyngrok-5.0.1.tar.gz (21 kB)\n",
      "Requirement already satisfied: PyYAML in c:\\users\\sanjay\\anaconda3\\lib\\site-packages (from pyngrok) (5.3.1)\n",
      "Building wheels for collected packages: pyngrok\n",
      "  Building wheel for pyngrok (setup.py): started\n",
      "  Building wheel for pyngrok (setup.py): finished with status 'done'\n",
      "  Created wheel for pyngrok: filename=pyngrok-5.0.1-py3-none-any.whl size=18828 sha256=b4afa5d8eb909b8a646aa98712def94f9f2e066451a6e6435229c22f47bbf7f6\n",
      "  Stored in directory: c:\\users\\sanjay\\appdata\\local\\pip\\cache\\wheels\\43\\4b\\5f\\8b2cb25cf96e0b52d2da861de77051901c668ee016b04f88e4\n",
      "Successfully built pyngrok\n",
      "Installing collected packages: pyngrok\n",
      "Successfully installed pyngrok-5.0.1\n",
      "time: 1min 42s (started: 2021-02-08 21:14:45 +05:30)\n"
     ]
    }
   ],
   "source": [
    "!pip install streamlit\n",
    "\n",
    "!pip install pyngrok\n",
    "from pyngrok import ngrok"
   ]
  },
  {
   "cell_type": "code",
   "execution_count": 38,
   "metadata": {
    "colab": {
     "base_uri": "https://localhost:8080/"
    },
    "id": "9a7U3MQaK1b3",
    "outputId": "fb1d1eb7-053f-4354-d514-22c6b5242fb6"
   },
   "outputs": [
    {
     "name": "stdout",
     "output_type": "stream",
     "text": [
      "Overwriting app.py\n",
      "time: 15 ms (started: 2021-02-08 22:49:38 +05:30)\n"
     ]
    }
   ],
   "source": [
    "%%writefile app.py\n",
    "import streamlit as st\n",
    "import numpy as np\n",
    "from skimage.io import imread\n",
    "from skimage.transform import resize\n",
    "import pickle\n",
    "from PIL import Image\n",
    "st.title('Weather Image Classification')\n",
    "st.text('Upload the Image')\n",
    "\n",
    "model=pickle.load(open('img_model.p','rb'))\n",
    "uploaded_file =st.file_uploader(\"Choose an image...\", type='jpg')\n",
    "if uploaded_file is not None:\n",
    "  img=Image.open(uploaded_file)\n",
    "  st.image(img,caption='Uploaded Image')\n",
    "\n",
    "  if st.button('PREDICT'):\n",
    "    CATEGORIES=['cloudy','rainy','shiny','sunrise']\n",
    "    st.write('Result...')\n",
    "    flat_data=[]\n",
    "    img=np.array(img)\n",
    "    img_resized=resize(img,(150,150,3))\n",
    "    flat_data.append(img_resized.flatten())\n",
    "    flat_data=np.array(flat_data)\n",
    "    y_out=model.predict(flat_data)\n",
    "    y_out=CATEGORIES[y_out[0]]\n",
    "    st.title(f'PREDICTED OUTPUT:{y_out}')\n",
    "    q=model.predict_proba(flat_data)\n",
    "    for index, item in enumerate(CATEGORIES):\n",
    "      st.write(f'{item}:{q[0][index]*100}')\n",
    "\n"
   ]
  },
  {
   "cell_type": "code",
   "execution_count": null,
   "metadata": {},
   "outputs": [],
   "source": []
  }
 ],
 "metadata": {
  "colab": {
   "collapsed_sections": [],
   "name": "Weather Classification.ipynb",
   "provenance": []
  },
  "kernelspec": {
   "display_name": "Python 3",
   "language": "python",
   "name": "python3"
  },
  "language_info": {
   "codemirror_mode": {
    "name": "ipython",
    "version": 3
   },
   "file_extension": ".py",
   "mimetype": "text/x-python",
   "name": "python",
   "nbconvert_exporter": "python",
   "pygments_lexer": "ipython3",
   "version": "3.8.5"
  }
 },
 "nbformat": 4,
 "nbformat_minor": 1
}
